{
 "cells": [
  {
   "cell_type": "markdown",
   "id": "51fd25e7",
   "metadata": {},
   "source": [
    "Tutorial: https://matplotlib.org/stable/gallery/lines_bars_and_markers/barchart.html"
   ]
  },
  {
   "cell_type": "code",
   "execution_count": 1,
   "id": "96c216b4",
   "metadata": {},
   "outputs": [],
   "source": [
    "import matplotlib.pyplot as plt\n",
    "import numpy as np"
   ]
  },
  {
   "cell_type": "code",
   "execution_count": 2,
   "id": "67e9352f",
   "metadata": {},
   "outputs": [],
   "source": [
    "labels = ['G1', 'G2', 'G3', 'G5', 'G5']\n",
    "men_means = [20, 34, 30, 35, 27]\n",
    "women_means = [25, 32, 34, 20, 25]"
   ]
  },
  {
   "cell_type": "code",
   "execution_count": 3,
   "id": "ddb8995f",
   "metadata": {},
   "outputs": [],
   "source": [
    "x = np.arange(len(labels))\n",
    "width = 0.35"
   ]
  },
  {
   "cell_type": "code",
   "execution_count": 4,
   "id": "be4bd30d",
   "metadata": {},
   "outputs": [
    {
     "data": {
      "image/png": "[encoded data removed]",
      "text/plain": [
       "<Figure size 432x288 with 1 Axes>"
      ]
     },
     "metadata": {
      "needs_background": "light"
     },
     "output_type": "display_data"
    }
   ],
   "source": [
    "fig, ax = plt.subplots()\n",
    "rects1 = ax.bar(x - width/2, men_means, width, label='Men')\n",
    "rects2 = ax.bar(x + width/2, women_means, width, label='Women')\n",
    "\n",
    "ax.set_ylabel('Scores')\n",
    "ax.set_title('Scores by group and gender')\n",
    "ax.set_xticks(x)\n",
    "ax.set_xticklabels(labels) \n",
    "ax.legend()\n",
    "\n",
    "fig.tight_layout()\n",
    "\n",
    "plt.show()"
   ]
  }
 ],
 "metadata": {
  "kernelspec": {
   "display_name": "Python 3",
   "language": "python",
   "name": "python3"
  },
  "language_info": {
   "codemirror_mode": {
    "name": "ipython",
    "version": 3
   },
   "file_extension": ".py",
   "mimetype": "text/x-python",
   "name": "python",
   "nbconvert_exporter": "python",
   "pygments_lexer": "ipython3",
   "version": "3.8.8"
  }
 },
 "nbformat": 4,
 "nbformat_minor": 5
}
